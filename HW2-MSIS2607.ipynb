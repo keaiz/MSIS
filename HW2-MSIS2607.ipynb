{
 "cells": [
  {
   "cell_type": "markdown",
   "metadata": {},
   "source": [
    "# HW 2"
   ]
  },
  {
   "cell_type": "markdown",
   "metadata": {},
   "source": [
    "## Use AAPL.csv file and answer the following questions:"
   ]
  },
  {
   "cell_type": "markdown",
   "metadata": {},
   "source": [
    "Create 5 different series based on AAPL.cvs file's column 'Open', 'Close', 'High', 'Low', 'Volume' and name the series accordingly."
   ]
  },
  {
   "cell_type": "code",
   "execution_count": 1,
   "metadata": {},
   "outputs": [],
   "source": [
    "# print all the outputs in a cell\n",
    "from IPython.core.interactiveshell import InteractiveShell\n",
    "InteractiveShell.ast_node_interactivity = \"all\""
   ]
  },
  {
   "cell_type": "code",
   "execution_count": 2,
   "metadata": {},
   "outputs": [],
   "source": [
    "import pandas as pd\n",
    "import numpy as np\n",
    "import seaborn as sns\n",
    "data = pd.read_csv('AAPL.csv',index_col=0, parse_dates=True)\n",
    "stock_o = data['Open']\n",
    "stock_c = data['Close']\n",
    "stock_h = data['High']\n",
    "stock_l = data['Low'] \n",
    "stock_v = data['Volume']"
   ]
  },
  {
   "cell_type": "code",
   "execution_count": 3,
   "metadata": {},
   "outputs": [
    {
     "data": {
      "text/html": [
       "<div>\n",
       "<style scoped>\n",
       "    .dataframe tbody tr th:only-of-type {\n",
       "        vertical-align: middle;\n",
       "    }\n",
       "\n",
       "    .dataframe tbody tr th {\n",
       "        vertical-align: top;\n",
       "    }\n",
       "\n",
       "    .dataframe thead th {\n",
       "        text-align: right;\n",
       "    }\n",
       "</style>\n",
       "<table border=\"1\" class=\"dataframe\">\n",
       "  <thead>\n",
       "    <tr style=\"text-align: right;\">\n",
       "      <th></th>\n",
       "      <th>Open</th>\n",
       "      <th>High</th>\n",
       "      <th>Low</th>\n",
       "      <th>Close</th>\n",
       "      <th>Adj Close</th>\n",
       "      <th>Volume</th>\n",
       "    </tr>\n",
       "    <tr>\n",
       "      <th>Date</th>\n",
       "      <th></th>\n",
       "      <th></th>\n",
       "      <th></th>\n",
       "      <th></th>\n",
       "      <th></th>\n",
       "      <th></th>\n",
       "    </tr>\n",
       "  </thead>\n",
       "  <tbody>\n",
       "    <tr>\n",
       "      <th>1980-12-12</th>\n",
       "      <td>0.513393</td>\n",
       "      <td>0.515625</td>\n",
       "      <td>0.513393</td>\n",
       "      <td>0.513393</td>\n",
       "      <td>0.408971</td>\n",
       "      <td>117258400.0</td>\n",
       "    </tr>\n",
       "    <tr>\n",
       "      <th>1980-12-15</th>\n",
       "      <td>0.488839</td>\n",
       "      <td>0.488839</td>\n",
       "      <td>0.486607</td>\n",
       "      <td>0.486607</td>\n",
       "      <td>0.387633</td>\n",
       "      <td>43971200.0</td>\n",
       "    </tr>\n",
       "    <tr>\n",
       "      <th>1980-12-16</th>\n",
       "      <td>0.453125</td>\n",
       "      <td>0.453125</td>\n",
       "      <td>0.450893</td>\n",
       "      <td>0.450893</td>\n",
       "      <td>0.359183</td>\n",
       "      <td>26432000.0</td>\n",
       "    </tr>\n",
       "    <tr>\n",
       "      <th>1980-12-17</th>\n",
       "      <td>0.462054</td>\n",
       "      <td>0.464286</td>\n",
       "      <td>0.462054</td>\n",
       "      <td>0.462054</td>\n",
       "      <td>0.368074</td>\n",
       "      <td>21610400.0</td>\n",
       "    </tr>\n",
       "    <tr>\n",
       "      <th>1980-12-18</th>\n",
       "      <td>0.475446</td>\n",
       "      <td>0.477679</td>\n",
       "      <td>0.475446</td>\n",
       "      <td>0.475446</td>\n",
       "      <td>0.378743</td>\n",
       "      <td>18362400.0</td>\n",
       "    </tr>\n",
       "  </tbody>\n",
       "</table>\n",
       "</div>"
      ],
      "text/plain": [
       "                Open      High       Low     Close  Adj Close       Volume\n",
       "Date                                                                      \n",
       "1980-12-12  0.513393  0.515625  0.513393  0.513393   0.408971  117258400.0\n",
       "1980-12-15  0.488839  0.488839  0.486607  0.486607   0.387633   43971200.0\n",
       "1980-12-16  0.453125  0.453125  0.450893  0.450893   0.359183   26432000.0\n",
       "1980-12-17  0.462054  0.464286  0.462054  0.462054   0.368074   21610400.0\n",
       "1980-12-18  0.475446  0.477679  0.475446  0.475446   0.378743   18362400.0"
      ]
     },
     "execution_count": 3,
     "metadata": {},
     "output_type": "execute_result"
    }
   ],
   "source": [
    "data.head()"
   ]
  },
  {
   "cell_type": "markdown",
   "metadata": {},
   "source": [
    "## Q1"
   ]
  },
  {
   "cell_type": "markdown",
   "metadata": {},
   "source": [
    "### Q1.1, How many trading days this data set cover? (fill in the number in Camino)"
   ]
  },
  {
   "cell_type": "code",
   "execution_count": 4,
   "metadata": {},
   "outputs": [
    {
     "data": {
      "text/plain": [
       "9785"
      ]
     },
     "execution_count": 4,
     "metadata": {},
     "output_type": "execute_result"
    }
   ],
   "source": [
    "data.shape[0]"
   ]
  },
  {
   "cell_type": "markdown",
   "metadata": {},
   "source": [
    "We have 9785 rows. Each row represents one trading day, so there are 9785 trading days."
   ]
  },
  {
   "cell_type": "markdown",
   "metadata": {},
   "source": [
    "### Q1.2, What's the open price at 2015-07-01? (choose the closest price in Camino)"
   ]
  },
  {
   "cell_type": "code",
   "execution_count": 5,
   "metadata": {},
   "outputs": [
    {
     "data": {
      "text/plain": [
       "126.900002"
      ]
     },
     "execution_count": 5,
     "metadata": {},
     "output_type": "execute_result"
    }
   ],
   "source": [
    "data.loc['2015-07-01','Open']"
   ]
  },
  {
   "cell_type": "markdown",
   "metadata": {},
   "source": [
    "Using the loc mechanism, we find that the open price at this date is $126.900002"
   ]
  },
  {
   "cell_type": "markdown",
   "metadata": {},
   "source": [
    "### Q1.3, What's the average closing price in 2018 first quarter (2018-01-01 to 2018-03-31)? (choose the closest price in Camino)"
   ]
  },
  {
   "cell_type": "code",
   "execution_count": 6,
   "metadata": {},
   "outputs": [],
   "source": [
    "# data.loc['2018-01-01':'2018-03-31','Close'] This gets the first quarter closing prices from the dataframe"
   ]
  },
  {
   "cell_type": "code",
   "execution_count": 7,
   "metadata": {},
   "outputs": [
    {
     "data": {
      "text/plain": [
       "172.1913116557377"
      ]
     },
     "execution_count": 7,
     "metadata": {},
     "output_type": "execute_result"
    }
   ],
   "source": [
    "data.loc['2018-01-01':'2018-03-31','Close'].mean()"
   ]
  },
  {
   "cell_type": "markdown",
   "metadata": {},
   "source": [
    "Nesting the extracted first quarter closing prices with a mean function gives us a value of 172.191 as the mean."
   ]
  },
  {
   "cell_type": "markdown",
   "metadata": {},
   "source": [
    "### Q1.4, Based on day high and day low, find the top 5 dates with the biggest value change within 1 trading day. Sort them based on value change, highest on top. (choose the 1st date in Camino)"
   ]
  },
  {
   "cell_type": "code",
   "execution_count": 8,
   "metadata": {},
   "outputs": [
    {
     "data": {
      "text/plain": [
       "Date\n",
       "2015-08-24    16.800003\n",
       "2018-10-29    13.600006\n",
       "2019-08-13    11.660003\n",
       "2019-08-01    11.289994\n",
       "2019-08-23    11.050003\n",
       "dtype: float64"
      ]
     },
     "execution_count": 8,
     "metadata": {},
     "output_type": "execute_result"
    }
   ],
   "source": [
    "(data['High'] - data['Low']).nlargest()"
   ]
  },
  {
   "cell_type": "markdown",
   "metadata": {},
   "source": [
    "The five dates are listed above."
   ]
  },
  {
   "cell_type": "markdown",
   "metadata": {},
   "source": [
    "### Q1.5, Plot the closing price vs date graph. (pick the command that you use to plot the graph in Camino)"
   ]
  },
  {
   "cell_type": "code",
   "execution_count": 9,
   "metadata": {},
   "outputs": [
    {
     "data": {
      "text/plain": [
       "<matplotlib.axes._subplots.AxesSubplot at 0x1110f0e10>"
      ]
     },
     "execution_count": 9,
     "metadata": {},
     "output_type": "execute_result"
    },
    {
     "data": {
      "image/png": "[encoded data removed]",
      "text/plain": [
       "<Figure size 432x288 with 1 Axes>"
      ]
     },
     "metadata": {
      "needs_background": "light"
     },
     "output_type": "display_data"
    }
   ],
   "source": [
    "data.plot(y='Close')  #date is already implicitly defined as x-axis?"
   ]
  },
  {
   "cell_type": "code",
   "execution_count": 10,
   "metadata": {},
   "outputs": [
    {
     "data": {
      "text/plain": [
       "<matplotlib.axes._subplots.AxesSubplot at 0x1a255c0588>"
      ]
     },
     "execution_count": 10,
     "metadata": {},
     "output_type": "execute_result"
    },
    {
     "data": {
      "image/png": "[encoded data removed]",
      "text/plain": [
       "<Figure size 432x288 with 1 Axes>"
      ]
     },
     "metadata": {
      "needs_background": "light"
     },
     "output_type": "display_data"
    }
   ],
   "source": [
    "stock_c.plot()"
   ]
  },
  {
   "cell_type": "markdown",
   "metadata": {},
   "source": [
    "## Q2"
   ]
  },
  {
   "cell_type": "markdown",
   "metadata": {},
   "source": [
    "### Q2.1, Total how many trading days the stock price close at below 50 dollars ? (fill in the number in Camino)"
   ]
  },
  {
   "cell_type": "code",
   "execution_count": 11,
   "metadata": {},
   "outputs": [],
   "source": [
    "# data[data['Close'] < 50] this boolean extracts portion of datafram where closing price is below 50"
   ]
  },
  {
   "cell_type": "code",
   "execution_count": 12,
   "metadata": {},
   "outputs": [
    {
     "data": {
      "text/plain": [
       "Open         7682\n",
       "High         7682\n",
       "Low          7682\n",
       "Close        7682\n",
       "Adj Close    7682\n",
       "Volume       7682\n",
       "dtype: int64"
      ]
     },
     "execution_count": 12,
     "metadata": {},
     "output_type": "execute_result"
    }
   ],
   "source": [
    "data[data['Close'] < 50].count()"
   ]
  },
  {
   "cell_type": "markdown",
   "metadata": {},
   "source": [
    "There are 7682 trading days that satisfy this condition."
   ]
  },
  {
   "cell_type": "markdown",
   "metadata": {},
   "source": [
    "### Q2.2, When is the first time this stock close at more than 50 dollars? Show the date only. (choose the right date in Camino)"
   ]
  },
  {
   "cell_type": "code",
   "execution_count": 13,
   "metadata": {},
   "outputs": [],
   "source": [
    "# data[data['Close'] > 50] This boolean extracts all trading days with the stock closing at more than 50"
   ]
  },
  {
   "cell_type": "code",
   "execution_count": 14,
   "metadata": {},
   "outputs": [
    {
     "data": {
      "text/html": [
       "<div>\n",
       "<style scoped>\n",
       "    .dataframe tbody tr th:only-of-type {\n",
       "        vertical-align: middle;\n",
       "    }\n",
       "\n",
       "    .dataframe tbody tr th {\n",
       "        vertical-align: top;\n",
       "    }\n",
       "\n",
       "    .dataframe thead th {\n",
       "        text-align: right;\n",
       "    }\n",
       "</style>\n",
       "<table border=\"1\" class=\"dataframe\">\n",
       "  <thead>\n",
       "    <tr style=\"text-align: right;\">\n",
       "      <th></th>\n",
       "      <th>Open</th>\n",
       "      <th>High</th>\n",
       "      <th>Low</th>\n",
       "      <th>Close</th>\n",
       "      <th>Adj Close</th>\n",
       "      <th>Volume</th>\n",
       "    </tr>\n",
       "    <tr>\n",
       "      <th>Date</th>\n",
       "      <th></th>\n",
       "      <th></th>\n",
       "      <th></th>\n",
       "      <th></th>\n",
       "      <th></th>\n",
       "      <th></th>\n",
       "    </tr>\n",
       "  </thead>\n",
       "  <tbody>\n",
       "    <tr>\n",
       "      <th>2011-02-07</th>\n",
       "      <td>49.698570</td>\n",
       "      <td>50.464287</td>\n",
       "      <td>49.662857</td>\n",
       "      <td>50.268570</td>\n",
       "      <td>43.870049</td>\n",
       "      <td>121255400.0</td>\n",
       "    </tr>\n",
       "    <tr>\n",
       "      <th>2011-02-08</th>\n",
       "      <td>50.525715</td>\n",
       "      <td>50.788570</td>\n",
       "      <td>50.307144</td>\n",
       "      <td>50.742859</td>\n",
       "      <td>44.283970</td>\n",
       "      <td>95260200.0</td>\n",
       "    </tr>\n",
       "    <tr>\n",
       "      <th>2011-02-09</th>\n",
       "      <td>50.741428</td>\n",
       "      <td>51.285713</td>\n",
       "      <td>50.695713</td>\n",
       "      <td>51.165714</td>\n",
       "      <td>44.652996</td>\n",
       "      <td>120686300.0</td>\n",
       "    </tr>\n",
       "    <tr>\n",
       "      <th>2011-02-10</th>\n",
       "      <td>51.055714</td>\n",
       "      <td>51.428570</td>\n",
       "      <td>49.714287</td>\n",
       "      <td>50.648571</td>\n",
       "      <td>44.201687</td>\n",
       "      <td>232137500.0</td>\n",
       "    </tr>\n",
       "    <tr>\n",
       "      <th>2011-02-11</th>\n",
       "      <td>50.678570</td>\n",
       "      <td>51.114285</td>\n",
       "      <td>50.505714</td>\n",
       "      <td>50.978573</td>\n",
       "      <td>44.489674</td>\n",
       "      <td>91893200.0</td>\n",
       "    </tr>\n",
       "  </tbody>\n",
       "</table>\n",
       "</div>"
      ],
      "text/plain": [
       "                 Open       High        Low      Close  Adj Close       Volume\n",
       "Date                                                                          \n",
       "2011-02-07  49.698570  50.464287  49.662857  50.268570  43.870049  121255400.0\n",
       "2011-02-08  50.525715  50.788570  50.307144  50.742859  44.283970   95260200.0\n",
       "2011-02-09  50.741428  51.285713  50.695713  51.165714  44.652996  120686300.0\n",
       "2011-02-10  51.055714  51.428570  49.714287  50.648571  44.201687  232137500.0\n",
       "2011-02-11  50.678570  51.114285  50.505714  50.978573  44.489674   91893200.0"
      ]
     },
     "execution_count": 14,
     "metadata": {},
     "output_type": "execute_result"
    }
   ],
   "source": [
    "data[data['Close'] > 50].head()"
   ]
  },
  {
   "cell_type": "markdown",
   "metadata": {},
   "source": [
    "Five head values represent the earliest dates. 2011-02-07 is the first date this condition occurs."
   ]
  },
  {
   "cell_type": "markdown",
   "metadata": {},
   "source": [
    "### Q2.3, Within the dates with price close at more than 50 dollars, find out how many days the trading volume is higher than 100 million shares. (choose the right number in Camino)"
   ]
  },
  {
   "cell_type": "code",
   "execution_count": 15,
   "metadata": {},
   "outputs": [],
   "source": [
    "overfif = data[data['Close'] > 50] #represents boolean where closing price is more than fifty dollars"
   ]
  },
  {
   "cell_type": "code",
   "execution_count": 16,
   "metadata": {},
   "outputs": [
    {
     "data": {
      "text/html": [
       "<div>\n",
       "<style scoped>\n",
       "    .dataframe tbody tr th:only-of-type {\n",
       "        vertical-align: middle;\n",
       "    }\n",
       "\n",
       "    .dataframe tbody tr th {\n",
       "        vertical-align: top;\n",
       "    }\n",
       "\n",
       "    .dataframe thead th {\n",
       "        text-align: right;\n",
       "    }\n",
       "</style>\n",
       "<table border=\"1\" class=\"dataframe\">\n",
       "  <thead>\n",
       "    <tr style=\"text-align: right;\">\n",
       "      <th></th>\n",
       "      <th>Open</th>\n",
       "      <th>High</th>\n",
       "      <th>Low</th>\n",
       "      <th>Close</th>\n",
       "      <th>Adj Close</th>\n",
       "      <th>Volume</th>\n",
       "    </tr>\n",
       "    <tr>\n",
       "      <th>Date</th>\n",
       "      <th></th>\n",
       "      <th></th>\n",
       "      <th></th>\n",
       "      <th></th>\n",
       "      <th></th>\n",
       "      <th></th>\n",
       "    </tr>\n",
       "  </thead>\n",
       "  <tbody>\n",
       "    <tr>\n",
       "      <th>2011-02-07</th>\n",
       "      <td>49.698570</td>\n",
       "      <td>50.464287</td>\n",
       "      <td>49.662857</td>\n",
       "      <td>50.268570</td>\n",
       "      <td>43.870049</td>\n",
       "      <td>121255400.0</td>\n",
       "    </tr>\n",
       "    <tr>\n",
       "      <th>2011-02-09</th>\n",
       "      <td>50.741428</td>\n",
       "      <td>51.285713</td>\n",
       "      <td>50.695713</td>\n",
       "      <td>51.165714</td>\n",
       "      <td>44.652996</td>\n",
       "      <td>120686300.0</td>\n",
       "    </tr>\n",
       "    <tr>\n",
       "      <th>2011-02-10</th>\n",
       "      <td>51.055714</td>\n",
       "      <td>51.428570</td>\n",
       "      <td>49.714287</td>\n",
       "      <td>50.648571</td>\n",
       "      <td>44.201687</td>\n",
       "      <td>232137500.0</td>\n",
       "    </tr>\n",
       "    <tr>\n",
       "      <th>2011-02-16</th>\n",
       "      <td>51.542858</td>\n",
       "      <td>52.128571</td>\n",
       "      <td>51.500000</td>\n",
       "      <td>51.875713</td>\n",
       "      <td>45.272617</td>\n",
       "      <td>120289400.0</td>\n",
       "    </tr>\n",
       "    <tr>\n",
       "      <th>2011-02-17</th>\n",
       "      <td>51.035713</td>\n",
       "      <td>51.467144</td>\n",
       "      <td>50.931427</td>\n",
       "      <td>51.185715</td>\n",
       "      <td>44.670448</td>\n",
       "      <td>132645800.0</td>\n",
       "    </tr>\n",
       "    <tr>\n",
       "      <th>2011-02-18</th>\n",
       "      <td>51.244286</td>\n",
       "      <td>51.357143</td>\n",
       "      <td>49.931427</td>\n",
       "      <td>50.080002</td>\n",
       "      <td>43.705486</td>\n",
       "      <td>204014300.0</td>\n",
       "    </tr>\n",
       "    <tr>\n",
       "      <th>2011-02-28</th>\n",
       "      <td>50.177143</td>\n",
       "      <td>50.721428</td>\n",
       "      <td>50.160000</td>\n",
       "      <td>50.458572</td>\n",
       "      <td>44.035866</td>\n",
       "      <td>100768500.0</td>\n",
       "    </tr>\n",
       "    <tr>\n",
       "      <th>2011-03-02</th>\n",
       "      <td>49.994286</td>\n",
       "      <td>50.621429</td>\n",
       "      <td>49.771427</td>\n",
       "      <td>50.302856</td>\n",
       "      <td>43.899967</td>\n",
       "      <td>150647700.0</td>\n",
       "    </tr>\n",
       "    <tr>\n",
       "      <th>2011-03-03</th>\n",
       "      <td>51.027142</td>\n",
       "      <td>51.398571</td>\n",
       "      <td>50.845715</td>\n",
       "      <td>51.365715</td>\n",
       "      <td>44.827538</td>\n",
       "      <td>125197100.0</td>\n",
       "    </tr>\n",
       "    <tr>\n",
       "      <th>2011-03-04</th>\n",
       "      <td>51.438572</td>\n",
       "      <td>51.470001</td>\n",
       "      <td>51.107143</td>\n",
       "      <td>51.428570</td>\n",
       "      <td>44.882393</td>\n",
       "      <td>113316700.0</td>\n",
       "    </tr>\n",
       "  </tbody>\n",
       "</table>\n",
       "</div>"
      ],
      "text/plain": [
       "                 Open       High        Low      Close  Adj Close       Volume\n",
       "Date                                                                          \n",
       "2011-02-07  49.698570  50.464287  49.662857  50.268570  43.870049  121255400.0\n",
       "2011-02-09  50.741428  51.285713  50.695713  51.165714  44.652996  120686300.0\n",
       "2011-02-10  51.055714  51.428570  49.714287  50.648571  44.201687  232137500.0\n",
       "2011-02-16  51.542858  52.128571  51.500000  51.875713  45.272617  120289400.0\n",
       "2011-02-17  51.035713  51.467144  50.931427  51.185715  44.670448  132645800.0\n",
       "2011-02-18  51.244286  51.357143  49.931427  50.080002  43.705486  204014300.0\n",
       "2011-02-28  50.177143  50.721428  50.160000  50.458572  44.035866  100768500.0\n",
       "2011-03-02  49.994286  50.621429  49.771427  50.302856  43.899967  150647700.0\n",
       "2011-03-03  51.027142  51.398571  50.845715  51.365715  44.827538  125197100.0\n",
       "2011-03-04  51.438572  51.470001  51.107143  51.428570  44.882393  113316700.0"
      ]
     },
     "execution_count": 16,
     "metadata": {},
     "output_type": "execute_result"
    }
   ],
   "source": [
    "overfif[overfif['Volume'] > 100000000].head(10) \n",
    "#this nested boolean satisfies both conditions (closing at more than 50 and volume greater than 100 mill)"
   ]
  },
  {
   "cell_type": "code",
   "execution_count": 17,
   "metadata": {},
   "outputs": [
    {
     "data": {
      "text/plain": [
       "Open         404\n",
       "High         404\n",
       "Low          404\n",
       "Close        404\n",
       "Adj Close    404\n",
       "Volume       404\n",
       "dtype: int64"
      ]
     },
     "execution_count": 17,
     "metadata": {},
     "output_type": "execute_result"
    }
   ],
   "source": [
    "overfif[overfif['Volume'] > 100000000].count()"
   ]
  },
  {
   "cell_type": "markdown",
   "metadata": {},
   "source": [
    "**404 trading days satisfy these conditions.**"
   ]
  },
  {
   "cell_type": "markdown",
   "metadata": {},
   "source": [
    "## Q3"
   ]
  },
  {
   "cell_type": "markdown",
   "metadata": {},
   "source": [
    "### Q3.1, For dates with price close at more than 100 dollars, how many days are before 2014-01-01 ? Show the date and stock price.  (choose the number of days in Camino)"
   ]
  },
  {
   "cell_type": "code",
   "execution_count": 18,
   "metadata": {},
   "outputs": [],
   "source": [
    "# data[data['Close'] >100] days that close at more than 100"
   ]
  },
  {
   "cell_type": "code",
   "execution_count": 19,
   "metadata": {},
   "outputs": [
    {
     "data": {
      "text/html": [
       "<div>\n",
       "<style scoped>\n",
       "    .dataframe tbody tr th:only-of-type {\n",
       "        vertical-align: middle;\n",
       "    }\n",
       "\n",
       "    .dataframe tbody tr th {\n",
       "        vertical-align: top;\n",
       "    }\n",
       "\n",
       "    .dataframe thead th {\n",
       "        text-align: right;\n",
       "    }\n",
       "</style>\n",
       "<table border=\"1\" class=\"dataframe\">\n",
       "  <thead>\n",
       "    <tr style=\"text-align: right;\">\n",
       "      <th></th>\n",
       "      <th>Open</th>\n",
       "      <th>High</th>\n",
       "      <th>Low</th>\n",
       "      <th>Close</th>\n",
       "      <th>Adj Close</th>\n",
       "      <th>Volume</th>\n",
       "    </tr>\n",
       "    <tr>\n",
       "      <th>Date</th>\n",
       "      <th></th>\n",
       "      <th></th>\n",
       "      <th></th>\n",
       "      <th></th>\n",
       "      <th></th>\n",
       "      <th></th>\n",
       "    </tr>\n",
       "  </thead>\n",
       "  <tbody>\n",
       "    <tr>\n",
       "      <th>2012-09-18</th>\n",
       "      <td>99.982857</td>\n",
       "      <td>100.332855</td>\n",
       "      <td>99.488571</td>\n",
       "      <td>100.272858</td>\n",
       "      <td>87.885170</td>\n",
       "      <td>93375800.0</td>\n",
       "    </tr>\n",
       "    <tr>\n",
       "      <th>2012-09-19</th>\n",
       "      <td>100.037140</td>\n",
       "      <td>100.570000</td>\n",
       "      <td>99.938568</td>\n",
       "      <td>100.300003</td>\n",
       "      <td>87.908958</td>\n",
       "      <td>81718700.0</td>\n",
       "    </tr>\n",
       "    <tr>\n",
       "      <th>2012-09-21</th>\n",
       "      <td>100.344284</td>\n",
       "      <td>100.724289</td>\n",
       "      <td>99.908569</td>\n",
       "      <td>100.012856</td>\n",
       "      <td>87.657303</td>\n",
       "      <td>142897300.0</td>\n",
       "    </tr>\n",
       "  </tbody>\n",
       "</table>\n",
       "</div>"
      ],
      "text/plain": [
       "                  Open        High        Low       Close  Adj Close  \\\n",
       "Date                                                                   \n",
       "2012-09-18   99.982857  100.332855  99.488571  100.272858  87.885170   \n",
       "2012-09-19  100.037140  100.570000  99.938568  100.300003  87.908958   \n",
       "2012-09-21  100.344284  100.724289  99.908569  100.012856  87.657303   \n",
       "\n",
       "                 Volume  \n",
       "Date                     \n",
       "2012-09-18   93375800.0  \n",
       "2012-09-19   81718700.0  \n",
       "2012-09-21  142897300.0  "
      ]
     },
     "execution_count": 19,
     "metadata": {},
     "output_type": "execute_result"
    }
   ],
   "source": [
    "data[data['Close'] >100].loc[:'2014-01-01']"
   ]
  },
  {
   "cell_type": "markdown",
   "metadata": {},
   "source": [
    "There are three days that satisfy these conditions. Listed above."
   ]
  },
  {
   "cell_type": "markdown",
   "metadata": {},
   "source": [
    "### Q3.2, Show the top 5 trading volume(date and volume) for stock price over 100 dollars. (choose the largest volume date in Camino)"
   ]
  },
  {
   "cell_type": "code",
   "execution_count": 20,
   "metadata": {},
   "outputs": [
    {
     "data": {
      "text/html": [
       "<div>\n",
       "<style scoped>\n",
       "    .dataframe tbody tr th:only-of-type {\n",
       "        vertical-align: middle;\n",
       "    }\n",
       "\n",
       "    .dataframe tbody tr th {\n",
       "        vertical-align: top;\n",
       "    }\n",
       "\n",
       "    .dataframe thead th {\n",
       "        text-align: right;\n",
       "    }\n",
       "</style>\n",
       "<table border=\"1\" class=\"dataframe\">\n",
       "  <thead>\n",
       "    <tr style=\"text-align: right;\">\n",
       "      <th></th>\n",
       "      <th>Open</th>\n",
       "      <th>High</th>\n",
       "      <th>Low</th>\n",
       "      <th>Close</th>\n",
       "      <th>Adj Close</th>\n",
       "      <th>Volume</th>\n",
       "    </tr>\n",
       "    <tr>\n",
       "      <th>Date</th>\n",
       "      <th></th>\n",
       "      <th></th>\n",
       "      <th></th>\n",
       "      <th></th>\n",
       "      <th></th>\n",
       "      <th></th>\n",
       "    </tr>\n",
       "  </thead>\n",
       "  <tbody>\n",
       "    <tr>\n",
       "      <th>2015-08-24</th>\n",
       "      <td>94.870003</td>\n",
       "      <td>108.800003</td>\n",
       "      <td>92.000000</td>\n",
       "      <td>103.120003</td>\n",
       "      <td>96.240166</td>\n",
       "      <td>162206300.0</td>\n",
       "    </tr>\n",
       "    <tr>\n",
       "      <th>2015-01-28</th>\n",
       "      <td>117.629997</td>\n",
       "      <td>118.120003</td>\n",
       "      <td>115.309998</td>\n",
       "      <td>115.309998</td>\n",
       "      <td>106.266914</td>\n",
       "      <td>146477100.0</td>\n",
       "    </tr>\n",
       "    <tr>\n",
       "      <th>2012-09-21</th>\n",
       "      <td>100.344284</td>\n",
       "      <td>100.724289</td>\n",
       "      <td>99.908569</td>\n",
       "      <td>100.012856</td>\n",
       "      <td>87.657303</td>\n",
       "      <td>142897300.0</td>\n",
       "    </tr>\n",
       "    <tr>\n",
       "      <th>2015-08-21</th>\n",
       "      <td>110.430000</td>\n",
       "      <td>111.900002</td>\n",
       "      <td>105.650002</td>\n",
       "      <td>105.760002</td>\n",
       "      <td>98.704018</td>\n",
       "      <td>128275500.0</td>\n",
       "    </tr>\n",
       "    <tr>\n",
       "      <th>2015-08-04</th>\n",
       "      <td>117.419998</td>\n",
       "      <td>117.699997</td>\n",
       "      <td>113.250000</td>\n",
       "      <td>114.639999</td>\n",
       "      <td>106.509476</td>\n",
       "      <td>124138600.0</td>\n",
       "    </tr>\n",
       "  </tbody>\n",
       "</table>\n",
       "</div>"
      ],
      "text/plain": [
       "                  Open        High         Low       Close   Adj Close  \\\n",
       "Date                                                                     \n",
       "2015-08-24   94.870003  108.800003   92.000000  103.120003   96.240166   \n",
       "2015-01-28  117.629997  118.120003  115.309998  115.309998  106.266914   \n",
       "2012-09-21  100.344284  100.724289   99.908569  100.012856   87.657303   \n",
       "2015-08-21  110.430000  111.900002  105.650002  105.760002   98.704018   \n",
       "2015-08-04  117.419998  117.699997  113.250000  114.639999  106.509476   \n",
       "\n",
       "                 Volume  \n",
       "Date                     \n",
       "2015-08-24  162206300.0  \n",
       "2015-01-28  146477100.0  \n",
       "2012-09-21  142897300.0  \n",
       "2015-08-21  128275500.0  \n",
       "2015-08-04  124138600.0  "
      ]
     },
     "execution_count": 20,
     "metadata": {},
     "output_type": "execute_result"
    }
   ],
   "source": [
    "data[data['Close']>100].sort_values(by='Volume',ascending = False).head()"
   ]
  },
  {
   "cell_type": "markdown",
   "metadata": {},
   "source": [
    "### Q3.3, Based on top 5 trading volume dates for stock price over 100 dollars, find the matching closing price and sort them based on price, highest one on top. (choose the first date in Camino)"
   ]
  },
  {
   "cell_type": "code",
   "execution_count": 21,
   "metadata": {},
   "outputs": [],
   "source": [
    "top5 = data[data['Close']>100].sort_values(by='Volume',ascending = False).head() "
   ]
  },
  {
   "cell_type": "code",
   "execution_count": 22,
   "metadata": {
    "scrolled": true
   },
   "outputs": [
    {
     "data": {
      "text/html": [
       "<div>\n",
       "<style scoped>\n",
       "    .dataframe tbody tr th:only-of-type {\n",
       "        vertical-align: middle;\n",
       "    }\n",
       "\n",
       "    .dataframe tbody tr th {\n",
       "        vertical-align: top;\n",
       "    }\n",
       "\n",
       "    .dataframe thead th {\n",
       "        text-align: right;\n",
       "    }\n",
       "</style>\n",
       "<table border=\"1\" class=\"dataframe\">\n",
       "  <thead>\n",
       "    <tr style=\"text-align: right;\">\n",
       "      <th></th>\n",
       "      <th>Open</th>\n",
       "      <th>High</th>\n",
       "      <th>Low</th>\n",
       "      <th>Close</th>\n",
       "      <th>Adj Close</th>\n",
       "      <th>Volume</th>\n",
       "    </tr>\n",
       "    <tr>\n",
       "      <th>Date</th>\n",
       "      <th></th>\n",
       "      <th></th>\n",
       "      <th></th>\n",
       "      <th></th>\n",
       "      <th></th>\n",
       "      <th></th>\n",
       "    </tr>\n",
       "  </thead>\n",
       "  <tbody>\n",
       "    <tr>\n",
       "      <th>2015-01-28</th>\n",
       "      <td>117.629997</td>\n",
       "      <td>118.120003</td>\n",
       "      <td>115.309998</td>\n",
       "      <td>115.309998</td>\n",
       "      <td>106.266914</td>\n",
       "      <td>146477100.0</td>\n",
       "    </tr>\n",
       "    <tr>\n",
       "      <th>2015-08-04</th>\n",
       "      <td>117.419998</td>\n",
       "      <td>117.699997</td>\n",
       "      <td>113.250000</td>\n",
       "      <td>114.639999</td>\n",
       "      <td>106.509476</td>\n",
       "      <td>124138600.0</td>\n",
       "    </tr>\n",
       "    <tr>\n",
       "      <th>2015-08-21</th>\n",
       "      <td>110.430000</td>\n",
       "      <td>111.900002</td>\n",
       "      <td>105.650002</td>\n",
       "      <td>105.760002</td>\n",
       "      <td>98.704018</td>\n",
       "      <td>128275500.0</td>\n",
       "    </tr>\n",
       "    <tr>\n",
       "      <th>2015-08-24</th>\n",
       "      <td>94.870003</td>\n",
       "      <td>108.800003</td>\n",
       "      <td>92.000000</td>\n",
       "      <td>103.120003</td>\n",
       "      <td>96.240166</td>\n",
       "      <td>162206300.0</td>\n",
       "    </tr>\n",
       "    <tr>\n",
       "      <th>2012-09-21</th>\n",
       "      <td>100.344284</td>\n",
       "      <td>100.724289</td>\n",
       "      <td>99.908569</td>\n",
       "      <td>100.012856</td>\n",
       "      <td>87.657303</td>\n",
       "      <td>142897300.0</td>\n",
       "    </tr>\n",
       "  </tbody>\n",
       "</table>\n",
       "</div>"
      ],
      "text/plain": [
       "                  Open        High         Low       Close   Adj Close  \\\n",
       "Date                                                                     \n",
       "2015-01-28  117.629997  118.120003  115.309998  115.309998  106.266914   \n",
       "2015-08-04  117.419998  117.699997  113.250000  114.639999  106.509476   \n",
       "2015-08-21  110.430000  111.900002  105.650002  105.760002   98.704018   \n",
       "2015-08-24   94.870003  108.800003   92.000000  103.120003   96.240166   \n",
       "2012-09-21  100.344284  100.724289   99.908569  100.012856   87.657303   \n",
       "\n",
       "                 Volume  \n",
       "Date                     \n",
       "2015-01-28  146477100.0  \n",
       "2015-08-04  124138600.0  \n",
       "2015-08-21  128275500.0  \n",
       "2015-08-24  162206300.0  \n",
       "2012-09-21  142897300.0  "
      ]
     },
     "execution_count": 22,
     "metadata": {},
     "output_type": "execute_result"
    }
   ],
   "source": [
    "top5.sort_values(by='Close',ascending=False)"
   ]
  },
  {
   "cell_type": "markdown",
   "metadata": {},
   "source": [
    "### Q3.4, Based on top 5 trading volume dates for stock price over 100 dollars, which date it lost the most per share? (choose the date in Camino)"
   ]
  },
  {
   "cell_type": "code",
   "execution_count": 23,
   "metadata": {},
   "outputs": [
    {
     "data": {
      "text/plain": [
       "Date\n",
       "2015-08-24    8.250000\n",
       "2015-01-28   -2.319999\n",
       "2012-09-21   -0.331428\n",
       "2015-08-21   -4.669998\n",
       "2015-08-04   -2.779999\n",
       "dtype: float64"
      ]
     },
     "execution_count": 23,
     "metadata": {},
     "output_type": "execute_result"
    }
   ],
   "source": [
    "top5['Close'] - top5['Open']     #2015-08-21 has the biggest net loss"
   ]
  },
  {
   "cell_type": "markdown",
   "metadata": {},
   "source": [
    "### Q-extra, (extra credit)  From the previous stock chart, we know this stock on average had been growing constantly till recent months. Let's pick stock closing price at 150 dollars as checkpoint.  Find out two dates that are closest(or equal) to 150(one should be before hitting the max, and the other is after hitting the max). Use these two dates to compare with the date that stock hit the max. What's the ratio between the days it took from 150 reached max and the days it took from max dropped back to 150. (pick the right ratio in Camino)"
   ]
  },
  {
   "cell_type": "code",
   "execution_count": 24,
   "metadata": {},
   "outputs": [
    {
     "data": {
      "text/plain": [
       "232.07000699999998"
      ]
     },
     "execution_count": 24,
     "metadata": {},
     "output_type": "execute_result"
    }
   ],
   "source": [
    "data['Close'].max()  #maximum stock closing price"
   ]
  },
  {
   "cell_type": "code",
   "execution_count": 25,
   "metadata": {},
   "outputs": [
    {
     "data": {
      "text/html": [
       "<div>\n",
       "<style scoped>\n",
       "    .dataframe tbody tr th:only-of-type {\n",
       "        vertical-align: middle;\n",
       "    }\n",
       "\n",
       "    .dataframe tbody tr th {\n",
       "        vertical-align: top;\n",
       "    }\n",
       "\n",
       "    .dataframe thead th {\n",
       "        text-align: right;\n",
       "    }\n",
       "</style>\n",
       "<table border=\"1\" class=\"dataframe\">\n",
       "  <thead>\n",
       "    <tr style=\"text-align: right;\">\n",
       "      <th></th>\n",
       "      <th>Open</th>\n",
       "      <th>High</th>\n",
       "      <th>Low</th>\n",
       "      <th>Close</th>\n",
       "      <th>Adj Close</th>\n",
       "      <th>Volume</th>\n",
       "    </tr>\n",
       "    <tr>\n",
       "      <th>Date</th>\n",
       "      <th></th>\n",
       "      <th></th>\n",
       "      <th></th>\n",
       "      <th></th>\n",
       "      <th></th>\n",
       "      <th></th>\n",
       "    </tr>\n",
       "  </thead>\n",
       "  <tbody>\n",
       "    <tr>\n",
       "      <th>2018-10-03</th>\n",
       "      <td>230.050003</td>\n",
       "      <td>233.470001</td>\n",
       "      <td>229.779999</td>\n",
       "      <td>232.070007</td>\n",
       "      <td>228.523819</td>\n",
       "      <td>28654800.0</td>\n",
       "    </tr>\n",
       "  </tbody>\n",
       "</table>\n",
       "</div>"
      ],
      "text/plain": [
       "                  Open        High         Low       Close   Adj Close  \\\n",
       "Date                                                                     \n",
       "2018-10-03  230.050003  233.470001  229.779999  232.070007  228.523819   \n",
       "\n",
       "                Volume  \n",
       "Date                    \n",
       "2018-10-03  28654800.0  "
      ]
     },
     "execution_count": 25,
     "metadata": {},
     "output_type": "execute_result"
    }
   ],
   "source": [
    "data[data['Close'] == 232.07000699999998]   #max occurs on this date"
   ]
  },
  {
   "cell_type": "markdown",
   "metadata": {},
   "source": [
    "**Now let's find a date before and after this date that's around 150 for closing price.**"
   ]
  },
  {
   "cell_type": "code",
   "execution_count": 26,
   "metadata": {},
   "outputs": [
    {
     "data": {
      "text/html": [
       "<div>\n",
       "<style scoped>\n",
       "    .dataframe tbody tr th:only-of-type {\n",
       "        vertical-align: middle;\n",
       "    }\n",
       "\n",
       "    .dataframe tbody tr th {\n",
       "        vertical-align: top;\n",
       "    }\n",
       "\n",
       "    .dataframe thead th {\n",
       "        text-align: right;\n",
       "    }\n",
       "</style>\n",
       "<table border=\"1\" class=\"dataframe\">\n",
       "  <thead>\n",
       "    <tr style=\"text-align: right;\">\n",
       "      <th></th>\n",
       "      <th>Open</th>\n",
       "      <th>High</th>\n",
       "      <th>Low</th>\n",
       "      <th>Close</th>\n",
       "      <th>Adj Close</th>\n",
       "      <th>Volume</th>\n",
       "    </tr>\n",
       "    <tr>\n",
       "      <th>Date</th>\n",
       "      <th></th>\n",
       "      <th></th>\n",
       "      <th></th>\n",
       "      <th></th>\n",
       "      <th></th>\n",
       "      <th></th>\n",
       "    </tr>\n",
       "  </thead>\n",
       "  <tbody>\n",
       "    <tr>\n",
       "      <th>2017-05-17</th>\n",
       "      <td>153.600006</td>\n",
       "      <td>154.570007</td>\n",
       "      <td>149.710007</td>\n",
       "      <td>150.250000</td>\n",
       "      <td>145.180206</td>\n",
       "      <td>50767700.0</td>\n",
       "    </tr>\n",
       "    <tr>\n",
       "      <th>2017-07-18</th>\n",
       "      <td>149.199997</td>\n",
       "      <td>150.130005</td>\n",
       "      <td>148.669998</td>\n",
       "      <td>150.080002</td>\n",
       "      <td>145.015961</td>\n",
       "      <td>17868800.0</td>\n",
       "    </tr>\n",
       "    <tr>\n",
       "      <th>2017-07-20</th>\n",
       "      <td>151.500000</td>\n",
       "      <td>151.740005</td>\n",
       "      <td>150.190002</td>\n",
       "      <td>150.339996</td>\n",
       "      <td>145.267151</td>\n",
       "      <td>17243700.0</td>\n",
       "    </tr>\n",
       "    <tr>\n",
       "      <th>2017-07-21</th>\n",
       "      <td>149.990005</td>\n",
       "      <td>150.440002</td>\n",
       "      <td>148.880005</td>\n",
       "      <td>150.270004</td>\n",
       "      <td>145.199524</td>\n",
       "      <td>26252600.0</td>\n",
       "    </tr>\n",
       "    <tr>\n",
       "      <th>2017-07-27</th>\n",
       "      <td>153.750000</td>\n",
       "      <td>153.990005</td>\n",
       "      <td>147.300003</td>\n",
       "      <td>150.559998</td>\n",
       "      <td>145.479767</td>\n",
       "      <td>32476300.0</td>\n",
       "    </tr>\n",
       "    <tr>\n",
       "      <th>2017-08-01</th>\n",
       "      <td>149.100006</td>\n",
       "      <td>150.220001</td>\n",
       "      <td>148.410004</td>\n",
       "      <td>150.050003</td>\n",
       "      <td>144.986969</td>\n",
       "      <td>35368600.0</td>\n",
       "    </tr>\n",
       "    <tr>\n",
       "      <th>2017-09-25</th>\n",
       "      <td>149.990005</td>\n",
       "      <td>151.830002</td>\n",
       "      <td>149.160004</td>\n",
       "      <td>150.550003</td>\n",
       "      <td>146.041321</td>\n",
       "      <td>44387300.0</td>\n",
       "    </tr>\n",
       "    <tr>\n",
       "      <th>2018-12-21</th>\n",
       "      <td>156.860001</td>\n",
       "      <td>158.160004</td>\n",
       "      <td>149.630005</td>\n",
       "      <td>150.729996</td>\n",
       "      <td>148.944626</td>\n",
       "      <td>95744600.0</td>\n",
       "    </tr>\n",
       "    <tr>\n",
       "      <th>2019-01-08</th>\n",
       "      <td>149.559998</td>\n",
       "      <td>151.820007</td>\n",
       "      <td>148.520004</td>\n",
       "      <td>150.750000</td>\n",
       "      <td>148.964386</td>\n",
       "      <td>41025300.0</td>\n",
       "    </tr>\n",
       "    <tr>\n",
       "      <th>2019-01-14</th>\n",
       "      <td>150.850006</td>\n",
       "      <td>151.270004</td>\n",
       "      <td>149.220001</td>\n",
       "      <td>150.000000</td>\n",
       "      <td>148.223282</td>\n",
       "      <td>32439200.0</td>\n",
       "    </tr>\n",
       "  </tbody>\n",
       "</table>\n",
       "</div>"
      ],
      "text/plain": [
       "                  Open        High         Low       Close   Adj Close  \\\n",
       "Date                                                                     \n",
       "2017-05-17  153.600006  154.570007  149.710007  150.250000  145.180206   \n",
       "2017-07-18  149.199997  150.130005  148.669998  150.080002  145.015961   \n",
       "2017-07-20  151.500000  151.740005  150.190002  150.339996  145.267151   \n",
       "2017-07-21  149.990005  150.440002  148.880005  150.270004  145.199524   \n",
       "2017-07-27  153.750000  153.990005  147.300003  150.559998  145.479767   \n",
       "2017-08-01  149.100006  150.220001  148.410004  150.050003  144.986969   \n",
       "2017-09-25  149.990005  151.830002  149.160004  150.550003  146.041321   \n",
       "2018-12-21  156.860001  158.160004  149.630005  150.729996  148.944626   \n",
       "2019-01-08  149.559998  151.820007  148.520004  150.750000  148.964386   \n",
       "2019-01-14  150.850006  151.270004  149.220001  150.000000  148.223282   \n",
       "\n",
       "                Volume  \n",
       "Date                    \n",
       "2017-05-17  50767700.0  \n",
       "2017-07-18  17868800.0  \n",
       "2017-07-20  17243700.0  \n",
       "2017-07-21  26252600.0  \n",
       "2017-07-27  32476300.0  \n",
       "2017-08-01  35368600.0  \n",
       "2017-09-25  44387300.0  \n",
       "2018-12-21  95744600.0  \n",
       "2019-01-08  41025300.0  \n",
       "2019-01-14  32439200.0  "
      ]
     },
     "execution_count": 26,
     "metadata": {},
     "output_type": "execute_result"
    }
   ],
   "source": [
    "data[(data['Close'] >= 150) & (data['Close'] < 151)]"
   ]
  },
  {
   "cell_type": "code",
   "execution_count": 27,
   "metadata": {},
   "outputs": [
    {
     "data": {
      "text/html": [
       "<div>\n",
       "<style scoped>\n",
       "    .dataframe tbody tr th:only-of-type {\n",
       "        vertical-align: middle;\n",
       "    }\n",
       "\n",
       "    .dataframe tbody tr th {\n",
       "        vertical-align: top;\n",
       "    }\n",
       "\n",
       "    .dataframe thead th {\n",
       "        text-align: right;\n",
       "    }\n",
       "</style>\n",
       "<table border=\"1\" class=\"dataframe\">\n",
       "  <thead>\n",
       "    <tr style=\"text-align: right;\">\n",
       "      <th></th>\n",
       "      <th>Open</th>\n",
       "      <th>High</th>\n",
       "      <th>Low</th>\n",
       "      <th>Close</th>\n",
       "      <th>Adj Close</th>\n",
       "      <th>Volume</th>\n",
       "    </tr>\n",
       "    <tr>\n",
       "      <th>Date</th>\n",
       "      <th></th>\n",
       "      <th></th>\n",
       "      <th></th>\n",
       "      <th></th>\n",
       "      <th></th>\n",
       "      <th></th>\n",
       "    </tr>\n",
       "  </thead>\n",
       "  <tbody>\n",
       "    <tr>\n",
       "      <th>2017-07-14</th>\n",
       "      <td>147.970001</td>\n",
       "      <td>149.330002</td>\n",
       "      <td>147.330002</td>\n",
       "      <td>149.039993</td>\n",
       "      <td>144.011017</td>\n",
       "      <td>20132100.0</td>\n",
       "    </tr>\n",
       "    <tr>\n",
       "      <th>2017-07-17</th>\n",
       "      <td>148.820007</td>\n",
       "      <td>150.899994</td>\n",
       "      <td>148.570007</td>\n",
       "      <td>149.559998</td>\n",
       "      <td>144.513474</td>\n",
       "      <td>23793500.0</td>\n",
       "    </tr>\n",
       "    <tr>\n",
       "      <th>2017-07-28</th>\n",
       "      <td>149.889999</td>\n",
       "      <td>150.229996</td>\n",
       "      <td>149.190002</td>\n",
       "      <td>149.500000</td>\n",
       "      <td>144.455536</td>\n",
       "      <td>17213700.0</td>\n",
       "    </tr>\n",
       "  </tbody>\n",
       "</table>\n",
       "</div>"
      ],
      "text/plain": [
       "                  Open        High         Low       Close   Adj Close  \\\n",
       "Date                                                                     \n",
       "2017-07-14  147.970001  149.330002  147.330002  149.039993  144.011017   \n",
       "2017-07-17  148.820007  150.899994  148.570007  149.559998  144.513474   \n",
       "2017-07-28  149.889999  150.229996  149.190002  149.500000  144.455536   \n",
       "\n",
       "                Volume  \n",
       "Date                    \n",
       "2017-07-14  20132100.0  \n",
       "2017-07-17  23793500.0  \n",
       "2017-07-28  17213700.0  "
      ]
     },
     "execution_count": 27,
     "metadata": {},
     "output_type": "execute_result"
    }
   ],
   "source": [
    "data[(data['Close'] < 150) & (data['Close'] > 149)]"
   ]
  },
  {
   "cell_type": "markdown",
   "metadata": {},
   "source": [
    "Most of the 150 prices that lie before the max date are in July of 2017. The before value, for our purposes, is therefore **2017-08-01**. This is the closest value to 150 that is not actually 150.\n",
    "\n",
    "For the date after the max, let's pick the date **2019-01-14**. This has a closing price of exactly $150.\n",
    "\n",
    "Recall the date of our maximum value lies on **2018-10-03**."
   ]
  },
  {
   "cell_type": "code",
   "execution_count": 28,
   "metadata": {},
   "outputs": [],
   "source": [
    "import datetime\n",
    "maxdate = \"2018-10-03\"\n",
    "earlydate = \"2017-08-01\"\n",
    "maxdate1 = datetime.datetime.strptime(maxdate, \"%Y-%m-%d\").date()\n",
    "earlydate1 = datetime.datetime.strptime(earlydate, \"%Y-%m-%d\").date()\n",
    "difference1 =  (maxdate1 - earlydate1).days"
   ]
  },
  {
   "cell_type": "code",
   "execution_count": 29,
   "metadata": {},
   "outputs": [
    {
     "data": {
      "text/plain": [
       "428"
      ]
     },
     "execution_count": 29,
     "metadata": {},
     "output_type": "execute_result"
    }
   ],
   "source": [
    "difference1"
   ]
  },
  {
   "cell_type": "code",
   "execution_count": 30,
   "metadata": {},
   "outputs": [],
   "source": [
    "maxdate = \"2018-10-03\"\n",
    "latedate=\"2019-01-14\"\n",
    "maxdate1 = datetime.datetime.strptime(maxdate, \"%Y-%m-%d\").date()\n",
    "latedate1 = datetime.datetime.strptime(latedate, \"%Y-%m-%d\").date()\n",
    "difference2 = (maxdate1 - latedate1).days"
   ]
  },
  {
   "cell_type": "code",
   "execution_count": 31,
   "metadata": {},
   "outputs": [],
   "source": [
    "difference2 = difference2* (-1)  #its a negative, lets find its absolute value"
   ]
  },
  {
   "cell_type": "code",
   "execution_count": 32,
   "metadata": {},
   "outputs": [
    {
     "data": {
      "text/plain": [
       "103"
      ]
     },
     "execution_count": 32,
     "metadata": {},
     "output_type": "execute_result"
    }
   ],
   "source": [
    "difference2"
   ]
  },
  {
   "cell_type": "code",
   "execution_count": 33,
   "metadata": {},
   "outputs": [
    {
     "data": {
      "text/plain": [
       "4.155339805825243"
      ]
     },
     "execution_count": 33,
     "metadata": {},
     "output_type": "execute_result"
    }
   ],
   "source": [
    "difference1/difference2"
   ]
  },
  {
   "cell_type": "markdown",
   "metadata": {},
   "source": [
    "This value about is our approximate ratio."
   ]
  }
 ],
 "metadata": {
  "kernelspec": {
   "display_name": "Python 3",
   "language": "python",
   "name": "python3"
  },
  "language_info": {
   "codemirror_mode": {
    "name": "ipython",
    "version": 3
   },
   "file_extension": ".py",
   "mimetype": "text/x-python",
   "name": "python",
   "nbconvert_exporter": "python",
   "pygments_lexer": "ipython3",
   "version": "3.7.3"
  }
 },
 "nbformat": 4,
 "nbformat_minor": 1
}
